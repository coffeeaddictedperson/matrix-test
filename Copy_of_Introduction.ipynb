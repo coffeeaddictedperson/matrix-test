{
  "nbformat": 4,
  "nbformat_minor": 0,
  "metadata": {
    "colab": {
      "name": "Copy of Introduction.ipynb",
      "version": "0.3.2",
      "provenance": [],
      "include_colab_link": true
    },
    "language_info": {
      "codemirror_mode": {
        "name": "ipython",
        "version": 3
      },
      "file_extension": ".py",
      "mimetype": "text/x-python",
      "name": "python",
      "nbconvert_exporter": "python",
      "pygments_lexer": "ipython3",
      "version": "3.6.7"
    },
    "kernelspec": {
      "display_name": "Python 3",
      "language": "python",
      "name": "python3"
    }
  },
  "cells": [
    {
      "cell_type": "markdown",
      "metadata": {
        "id": "view-in-github",
        "colab_type": "text"
      },
      "source": [
        "<a href=\"https://colab.research.google.com/github/coffeeaddictedperson/matrix-test/blob/master/Copy_of_Introduction.ipynb\" target=\"_parent\"><img src=\"https://colab.research.google.com/assets/colab-badge.svg\" alt=\"Open In Colab\"/></a>"
      ]
    },
    {
      "cell_type": "markdown",
      "metadata": {
        "id": "VYs1hUxxjVji",
        "colab_type": "text"
      },
      "source": [
        "|  **hillel, DS 2019**  | ![hillel](https://github.com/korobool/hlll_course/blob/master/topics/img/hillel.png?raw=1) |\n",
        "|---|---|\n",
        "| Oleksandr Korobov | korobov.alex@gmail.com, ai-labs.org |\n"
      ]
    },
    {
      "cell_type": "markdown",
      "metadata": {
        "id": "zGLbiINfjVjo",
        "colab_type": "text"
      },
      "source": [
        "### Plan\n",
        "* general discussion on AI, ML and DatsScience itself\n",
        "* Working Environment and suggestions\n",
        "    * python and virtualenvs\n",
        "    * unix utils\n",
        "    * running jupyter locally\n",
        "    * using google colab\n",
        "* Discussion about Types of ML\n",
        "    * supervised\n",
        "    * unsupervised\n",
        "    * semisupervise\n",
        "    * reinforcement\n",
        "* meet numpy\n",
        "* meet pandas\n",
        "* meet scikit-learn\n"
      ]
    },
    {
      "cell_type": "markdown",
      "metadata": {
        "id": "v_yQL7JKjVjs",
        "colab_type": "text"
      },
      "source": [
        "#### general discussion on AI, ML and DatsScience in particular\n",
        "See general presentation [here](https://docs.google.com/presentation/d/13QxqCJnxzCvZe4IJZcvEh91x1WrnaJeoCQmD8ki780Y/edit?usp=sharing)"
      ]
    },
    {
      "cell_type": "markdown",
      "metadata": {
        "id": "tq8AtMDOjVju",
        "colab_type": "text"
      },
      "source": [
        "#### Working Environment and suggestions\n",
        "\n",
        "See presentation [here](https://docs.google.com/presentation/d/1nA1kR460Cs_QVJNvIGAyMOjh3eyxTaBxquwd1d6czso/edit?usp=sharing)\n"
      ]
    },
    {
      "cell_type": "markdown",
      "metadata": {
        "id": "6o2VhdegjVjx",
        "colab_type": "text"
      },
      "source": [
        "#### Discussion about Types of ML\n",
        "See presentation [here](https://docs.google.com/presentation/d/17b-kdMyMOmB7oogO286_643xMlR3B5UWMKnZgZTvAqE/edit?usp=sharing)"
      ]
    },
    {
      "cell_type": "markdown",
      "metadata": {
        "id": "TQO_bj_AjVj1",
        "colab_type": "text"
      },
      "source": [
        "# meet numpy\n",
        "\n",
        "see [this](https://cloudxlab.com/blog/numpy-pandas-introduction/)"
      ]
    },
    {
      "cell_type": "code",
      "metadata": {
        "id": "_U26B939jVj5",
        "colab_type": "code",
        "outputId": "88f3cc86-6420-40ec-f270-5d776a8bb5c3",
        "colab": {}
      },
      "source": [
        "!pip install numpy"
      ],
      "execution_count": 0,
      "outputs": [
        {
          "output_type": "stream",
          "text": [
            "Requirement already satisfied: numpy in /home/oleksandr/.virtualenvs/hlll_course/lib/python3.6/site-packages (1.16.4)\r\n"
          ],
          "name": "stdout"
        }
      ]
    },
    {
      "cell_type": "markdown",
      "metadata": {
        "id": "XTdhyo00jVkN",
        "colab_type": "text"
      },
      "source": [
        "##### NumPy Arrays\n",
        "A NumPy array is simply a grid that contains values of the same type. NumPy Arrays come in two forms; Vectors and Matrices. Vectors are strictly one-dimensional(1-d) arrays, while Matrices are multidimensional. In some cases, Matrices can still have only one row or one column."
      ]
    },
    {
      "cell_type": "code",
      "metadata": {
        "id": "94DiHQFGjVkQ",
        "colab_type": "code",
        "colab": {}
      },
      "source": [
        "import numpy as np"
      ],
      "execution_count": 0,
      "outputs": []
    },
    {
      "cell_type": "markdown",
      "metadata": {
        "id": "pRwsOm6TjVka",
        "colab_type": "text"
      },
      "source": [
        "Creating numpy arrays from python lists\n",
        "\n",
        "Say we have a Python list:"
      ]
    },
    {
      "cell_type": "code",
      "metadata": {
        "id": "_6QBWfvIjVkd",
        "colab_type": "code",
        "colab": {}
      },
      "source": [
        "my_list = [1, 2, 3, 4, 5]"
      ],
      "execution_count": 0,
      "outputs": []
    },
    {
      "cell_type": "markdown",
      "metadata": {
        "id": "eYVHV3bIjVkl",
        "colab_type": "text"
      },
      "source": [
        "We can simply create a NumPy array called my_numpy_list and display the result:"
      ]
    },
    {
      "cell_type": "code",
      "metadata": {
        "id": "Uos3KIYtjVkp",
        "colab_type": "code",
        "outputId": "036ec93b-3491-4c05-d31f-ecfe774148d3",
        "colab": {}
      },
      "source": [
        "my_numpy_list = np.array(my_list)\n",
        "my_numpy_list  #This line show the result of the array generated"
      ],
      "execution_count": 0,
      "outputs": [
        {
          "output_type": "execute_result",
          "data": {
            "text/plain": [
              "array([1, 2, 3, 4, 5])"
            ]
          },
          "metadata": {
            "tags": []
          },
          "execution_count": 40
        }
      ]
    },
    {
      "cell_type": "markdown",
      "metadata": {
        "id": "ppMmDGOjjVk1",
        "colab_type": "text"
      },
      "source": [
        "What we have just done is casting a python list into a one-dimensional array. To get a 2-dimensional array, we have to cast a list of list as shown below."
      ]
    },
    {
      "cell_type": "code",
      "metadata": {
        "id": "dgw3m6ApjVk6",
        "colab_type": "code",
        "outputId": "1fe066a8-a0ee-448e-83b5-f847c7087d39",
        "colab": {}
      },
      "source": [
        "second_list = [[1,2,3], [5,4,1], [3,6,7]]\n",
        "new_2d_arr = np.array(second_list)\n",
        "new_2d_arr  #This line show the result of the array generated\n"
      ],
      "execution_count": 0,
      "outputs": [
        {
          "output_type": "execute_result",
          "data": {
            "text/plain": [
              "array([[1, 2, 3],\n",
              "       [5, 4, 1],\n",
              "       [3, 6, 7]])"
            ]
          },
          "metadata": {
            "tags": []
          },
          "execution_count": 41
        }
      ]
    },
    {
      "cell_type": "markdown",
      "metadata": {
        "id": "L2qWcZu4jVlG",
        "colab_type": "text"
      },
      "source": [
        "Creating NumPy array using arange() built-in function.\n",
        "\n",
        "Similar to the python built-in range() function, we will create a NumPy array using arange()."
      ]
    },
    {
      "cell_type": "code",
      "metadata": {
        "id": "moUpSdtJjVlJ",
        "colab_type": "code",
        "outputId": "f4d906f9-5f03-4392-bdab-9b4c1ea94ec9",
        "colab": {}
      },
      "source": [
        "my_list = np.arange(10)\n",
        "my_list"
      ],
      "execution_count": 0,
      "outputs": [
        {
          "output_type": "execute_result",
          "data": {
            "text/plain": [
              "array([0, 1, 2, 3, 4, 5, 6, 7, 8, 9])"
            ]
          },
          "metadata": {
            "tags": []
          },
          "execution_count": 42
        }
      ]
    },
    {
      "cell_type": "code",
      "metadata": {
        "id": "3N3YgqgrjVlW",
        "colab_type": "code",
        "outputId": "30c19b1f-a15f-45e7-b42f-e70f9d758cc8",
        "colab": {}
      },
      "source": [
        "my_list = np.arange(0,10)\n",
        "my_list"
      ],
      "execution_count": 0,
      "outputs": [
        {
          "output_type": "execute_result",
          "data": {
            "text/plain": [
              "array([0, 1, 2, 3, 4, 5, 6, 7, 8, 9])"
            ]
          },
          "metadata": {
            "tags": []
          },
          "execution_count": 43
        }
      ]
    },
    {
      "cell_type": "code",
      "metadata": {
        "id": "lv7laTxPjVlh",
        "colab_type": "code",
        "outputId": "f95e5c45-a4be-4724-f121-f14fe0e590e2",
        "colab": {}
      },
      "source": [
        "my_list = np.arange(0,11,2)\n",
        "my_list"
      ],
      "execution_count": 0,
      "outputs": [
        {
          "output_type": "execute_result",
          "data": {
            "text/plain": [
              "array([ 0,  2,  4,  6,  8, 10])"
            ]
          },
          "metadata": {
            "tags": []
          },
          "execution_count": 44
        }
      ]
    },
    {
      "cell_type": "code",
      "metadata": {
        "id": "DGWyrFwvjVlp",
        "colab_type": "code",
        "outputId": "712737bd-82a7-4446-857f-c71469951ba0",
        "colab": {}
      },
      "source": [
        "my_zeros = np.zeros(7)\n",
        "my_zeros"
      ],
      "execution_count": 0,
      "outputs": [
        {
          "output_type": "execute_result",
          "data": {
            "text/plain": [
              "array([0., 0., 0., 0., 0., 0., 0.])"
            ]
          },
          "metadata": {
            "tags": []
          },
          "execution_count": 45
        }
      ]
    },
    {
      "cell_type": "code",
      "metadata": {
        "id": "cDrZnox-jVlu",
        "colab_type": "code",
        "outputId": "00487512-106c-409a-a434-0695f8d5299e",
        "colab": {}
      },
      "source": [
        "my_ones = np.ones(5)\n",
        "my_ones"
      ],
      "execution_count": 0,
      "outputs": [
        {
          "output_type": "execute_result",
          "data": {
            "text/plain": [
              "array([1., 1., 1., 1., 1.])"
            ]
          },
          "metadata": {
            "tags": []
          },
          "execution_count": 46
        }
      ]
    },
    {
      "cell_type": "code",
      "metadata": {
        "id": "ceyMd3yojVl1",
        "colab_type": "code",
        "outputId": "ff3ba043-90b7-44e0-e1d9-da6d680e4ed2",
        "colab": {}
      },
      "source": [
        "two_d = np.zeros((3,5))\n",
        "two_d"
      ],
      "execution_count": 0,
      "outputs": [
        {
          "output_type": "execute_result",
          "data": {
            "text/plain": [
              "array([[0., 0., 0., 0., 0.],\n",
              "       [0., 0., 0., 0., 0.],\n",
              "       [0., 0., 0., 0., 0.]])"
            ]
          },
          "metadata": {
            "tags": []
          },
          "execution_count": 47
        }
      ]
    },
    {
      "cell_type": "markdown",
      "metadata": {
        "id": "oRbggCQQjVl6",
        "colab_type": "text"
      },
      "source": [
        "**Creating NumPy array using linspace() built-in function.**\n",
        "\n",
        "The linspace() function returns numbers evenly spaced over a specified intervals. Say we want 15 evenly spaced points from 1 to 3, we can easily use:"
      ]
    },
    {
      "cell_type": "code",
      "metadata": {
        "id": "ordtQTBYjVl7",
        "colab_type": "code",
        "outputId": "15209d1d-4c71-4630-8cdb-90640f8e42ad",
        "colab": {}
      },
      "source": [
        "lin_arr = np.linspace(1, 3, 15)\n",
        "for item in lin_arr:\n",
        "    print(item)"
      ],
      "execution_count": 0,
      "outputs": [
        {
          "output_type": "stream",
          "text": [
            "1.0\n",
            "1.1428571428571428\n",
            "1.2857142857142856\n",
            "1.4285714285714286\n",
            "1.5714285714285714\n",
            "1.7142857142857142\n",
            "1.8571428571428572\n",
            "2.0\n",
            "2.142857142857143\n",
            "2.2857142857142856\n",
            "2.4285714285714284\n",
            "2.571428571428571\n",
            "2.7142857142857144\n",
            "2.8571428571428568\n",
            "3.0\n"
          ],
          "name": "stdout"
        }
      ]
    },
    {
      "cell_type": "markdown",
      "metadata": {
        "id": "_bNF18uvjVmB",
        "colab_type": "text"
      },
      "source": [
        "This gives us a one dimensional vector.\n",
        "\n",
        "Unlike the arange() function which takes the third argument as the number of steps, linspace() takes the third argument as the number of datapoints to be created."
      ]
    },
    {
      "cell_type": "markdown",
      "metadata": {
        "id": "xV6zAeC5jVmB",
        "colab_type": "text"
      },
      "source": [
        "**Creating an identity matrix in NumPy**\n",
        "\n",
        "Identity matrices are very useful when dealing with linear algebras. Usually, is a two-dimensional square matrix. This means the number of row is equal to the number of column. One unique thing to note about identity matrix is that the diagonals are 1’s and everything else is 0. Identity matrices usually takes a single argument. Here’s how to create one."
      ]
    },
    {
      "cell_type": "code",
      "metadata": {
        "id": "9uqEGsOYjVmC",
        "colab_type": "code",
        "outputId": "445aff04-71cd-4a44-bbc9-1ccca0c81b6d",
        "colab": {}
      },
      "source": [
        "my_matrx = np.eye(6) \n",
        "my_matrx"
      ],
      "execution_count": 0,
      "outputs": [
        {
          "output_type": "execute_result",
          "data": {
            "text/plain": [
              "array([[1., 0., 0., 0., 0., 0.],\n",
              "       [0., 1., 0., 0., 0., 0.],\n",
              "       [0., 0., 1., 0., 0., 0.],\n",
              "       [0., 0., 0., 1., 0., 0.],\n",
              "       [0., 0., 0., 0., 1., 0.],\n",
              "       [0., 0., 0., 0., 0., 1.]])"
            ]
          },
          "metadata": {
            "tags": []
          },
          "execution_count": 49
        }
      ]
    },
    {
      "cell_type": "markdown",
      "metadata": {
        "id": "nOEh_IDvjVmG",
        "colab_type": "text"
      },
      "source": [
        "Generating an array of random numbers in NumPy\n",
        "\n",
        "We can generate an array of random numbers using rand(), randn() or randint() functions."
      ]
    },
    {
      "cell_type": "code",
      "metadata": {
        "id": "2XEht2P4jVmI",
        "colab_type": "code",
        "outputId": "0fbc4643-a559-43a2-b2b3-9737b3fc18f3",
        "colab": {}
      },
      "source": [
        "my_rand = np.random.rand(4)\n",
        "my_rand"
      ],
      "execution_count": 0,
      "outputs": [
        {
          "output_type": "execute_result",
          "data": {
            "text/plain": [
              "array([0.76884401, 0.01933446, 0.91198747, 0.59532728])"
            ]
          },
          "metadata": {
            "tags": []
          },
          "execution_count": 50
        }
      ]
    },
    {
      "cell_type": "code",
      "metadata": {
        "id": "MKBSEkTjjVmM",
        "colab_type": "code",
        "outputId": "472947d1-811f-4953-810b-45bed96bae48",
        "colab": {}
      },
      "source": [
        "my_rand = np.random.rand(5, 4)\n",
        "my_rand"
      ],
      "execution_count": 0,
      "outputs": [
        {
          "output_type": "execute_result",
          "data": {
            "text/plain": [
              "array([[0.02869239, 0.17206927, 0.11927349, 0.41369613],\n",
              "       [0.01186886, 0.62454548, 0.58002884, 0.3099104 ],\n",
              "       [0.55892243, 0.902475  , 0.50775686, 0.27183587],\n",
              "       [0.28000097, 0.1390775 , 0.40183452, 0.5221567 ],\n",
              "       [0.44650516, 0.22825079, 0.30930211, 0.1737323 ]])"
            ]
          },
          "metadata": {
            "tags": []
          },
          "execution_count": 51
        }
      ]
    },
    {
      "cell_type": "markdown",
      "metadata": {
        "id": "fT_7gIP3jVmT",
        "colab_type": "text"
      },
      "source": [
        "Using randn(), we can generate random samples from Standard, normal or Gaussian distribution centered around 0. For example, let’s generate 7 random numbers:"
      ]
    },
    {
      "cell_type": "code",
      "metadata": {
        "id": "HxX-MRQ0jVmU",
        "colab_type": "code",
        "outputId": "8ddcd852-92f3-4447-b4b9-0a460442a17f",
        "colab": {}
      },
      "source": [
        "my_randn = np.random.randn(7)\n",
        "my_randn"
      ],
      "execution_count": 0,
      "outputs": [
        {
          "output_type": "execute_result",
          "data": {
            "text/plain": [
              "array([ 0.51476655,  1.34401735,  0.3396289 , -0.16512423, -0.1369521 ,\n",
              "        0.77449716,  1.67122699])"
            ]
          },
          "metadata": {
            "tags": []
          },
          "execution_count": 52
        }
      ]
    },
    {
      "cell_type": "code",
      "metadata": {
        "id": "0o4PD_n7jVmY",
        "colab_type": "code",
        "outputId": "c832707f-0eb3-41e0-822b-0c7bc848d9ca",
        "colab": {}
      },
      "source": [
        "np.random.randn(3, 5)"
      ],
      "execution_count": 0,
      "outputs": [
        {
          "output_type": "execute_result",
          "data": {
            "text/plain": [
              "array([[ 2.17187768, -0.54985485, -0.46856639, -0.11972795, -1.22693987],\n",
              "       [-0.72773459,  0.54508679, -1.92115159, -1.32527003,  0.41749966],\n",
              "       [ 0.94941627, -2.25065878,  1.21415413,  0.96726464,  0.13152878]])"
            ]
          },
          "metadata": {
            "tags": []
          },
          "execution_count": 53
        }
      ]
    },
    {
      "cell_type": "markdown",
      "metadata": {
        "id": "QdGO4bnFjVmf",
        "colab_type": "text"
      },
      "source": [
        "Lastly, we can use the randint() function to generate an array of integers. The randint() function can take up to 3 arguments; the low(inclusive), high(exclusive) and size of the array."
      ]
    },
    {
      "cell_type": "code",
      "metadata": {
        "id": "tS42G4s4jVmf",
        "colab_type": "code",
        "outputId": "a9f2ed0d-1998-4a50-8065-f358c951aef4",
        "colab": {}
      },
      "source": [
        "np.random.randint(20) #generates a random integer exclusive of 20"
      ],
      "execution_count": 0,
      "outputs": [
        {
          "output_type": "execute_result",
          "data": {
            "text/plain": [
              "10"
            ]
          },
          "metadata": {
            "tags": []
          },
          "execution_count": 54
        }
      ]
    },
    {
      "cell_type": "code",
      "metadata": {
        "id": "CwycRRzijVmk",
        "colab_type": "code",
        "outputId": "08694c2d-06aa-451e-a581-70b0cae98715",
        "colab": {}
      },
      "source": [
        "\n",
        "np.random.randint(2, 20) #generates a random integer including 2 but excluding 20"
      ],
      "execution_count": 0,
      "outputs": [
        {
          "output_type": "execute_result",
          "data": {
            "text/plain": [
              "9"
            ]
          },
          "metadata": {
            "tags": []
          },
          "execution_count": 55
        }
      ]
    },
    {
      "cell_type": "code",
      "metadata": {
        "id": "7rkMNAY2jVmn",
        "colab_type": "code",
        "outputId": "2692a2f3-f58d-4d1a-b066-a5a764e07447",
        "colab": {}
      },
      "source": [
        "np.random.randint(2, 20, 7) #generates 7 random integers including 2 but excluding 20"
      ],
      "execution_count": 0,
      "outputs": [
        {
          "output_type": "execute_result",
          "data": {
            "text/plain": [
              "array([17, 11, 17,  4,  2, 16,  9])"
            ]
          },
          "metadata": {
            "tags": []
          },
          "execution_count": 56
        }
      ]
    },
    {
      "cell_type": "markdown",
      "metadata": {
        "id": "Ii6Xd14njVms",
        "colab_type": "text"
      },
      "source": [
        "**Converting one-dimensional array to two-dimensional**\n",
        "\n",
        "First, we generate a 1-d array of random 25 integers\n",
        "\n",
        "\n",
        "*Note: The reshape() can only convert to equal number or rows and columns and must together be equal to equal to the number of elements. In the example above, arr contained 25 elements hence can only be reshaped to a 5X5 matrix.*\n",
        "\n"
      ]
    },
    {
      "cell_type": "code",
      "metadata": {
        "id": "p7QXymTGjVmu",
        "colab_type": "code",
        "outputId": "ca2bc697-0583-4408-8d66-a7694b13a298",
        "colab": {}
      },
      "source": [
        "arr = np.random.rand(25)\n",
        "print(arr, '\\n')\n",
        "print(arr.shape, '\\n')\n",
        "print('---------------------')\n",
        "reshaped = arr.reshape(5,5)\n",
        "print(reshaped, '\\n')\n",
        "print(reshaped.shape, '\\n')"
      ],
      "execution_count": 0,
      "outputs": [
        {
          "output_type": "stream",
          "text": [
            "[0.05748912 0.03851459 0.19776961 0.22683348 0.64049549 0.68216973\n",
            " 0.923403   0.28956033 0.6933626  0.52485402 0.22534262 0.54892976\n",
            " 0.61780824 0.51838387 0.59219258 0.89017378 0.51998245 0.1949728\n",
            " 0.27665357 0.74537292 0.86117619 0.38024874 0.43318263 0.64678081\n",
            " 0.27914812] \n",
            "\n",
            "(25,) \n",
            "\n",
            "---------------------\n",
            "[[0.05748912 0.03851459 0.19776961 0.22683348 0.64049549]\n",
            " [0.68216973 0.923403   0.28956033 0.6933626  0.52485402]\n",
            " [0.22534262 0.54892976 0.61780824 0.51838387 0.59219258]\n",
            " [0.89017378 0.51998245 0.1949728  0.27665357 0.74537292]\n",
            " [0.86117619 0.38024874 0.43318263 0.64678081 0.27914812]] \n",
            "\n",
            "(5, 5) \n",
            "\n"
          ],
          "name": "stdout"
        }
      ]
    },
    {
      "cell_type": "markdown",
      "metadata": {
        "id": "TfBHluWTjVmx",
        "colab_type": "text"
      },
      "source": [
        "**Locating the maximum and minimum values of a NumPy Array**\n",
        "\n",
        "Using the max(), and min(), we can get the maximum or minimum values in an array."
      ]
    },
    {
      "cell_type": "code",
      "metadata": {
        "id": "f6XUZqkJjVmx",
        "colab_type": "code",
        "outputId": "220426e3-413a-4f36-b5c4-40fc12b07d94",
        "colab": {}
      },
      "source": [
        "arr_2 = np.random.randint(3, 20, 10) \n",
        "\n",
        "print(arr_2, '\\n')\n",
        "\n",
        "print(arr_2.max()) #This gives the highest value in the array \n",
        "print(arr_2.min()) #This gives the lowest value in the array\n",
        "\n",
        "print(arr_2.argmax()) #This shows the index of the highest value in the array \n",
        "print(arr_2.argmin()) #This shows the index of the lowest value in the array\n"
      ],
      "execution_count": 0,
      "outputs": [
        {
          "output_type": "stream",
          "text": [
            "[ 3 16 11  7 10 17  7 19 13 11] \n",
            "\n",
            "19\n",
            "3\n",
            "7\n",
            "0\n"
          ],
          "name": "stdout"
        }
      ]
    },
    {
      "cell_type": "markdown",
      "metadata": {
        "id": "3IpmiTGLjVm1",
        "colab_type": "text"
      },
      "source": [
        "Indexing/Selecting elements or groups of elements from a NumPy array\n",
        "\n",
        "Indexing NumPy arrays is similar to that of Python. You simply pass in the index you want."
      ]
    },
    {
      "cell_type": "code",
      "metadata": {
        "id": "6zRZuEaajVm1",
        "colab_type": "code",
        "outputId": "c75754e2-e647-4a0d-fd7c-128cb8fbe2fe",
        "colab": {}
      },
      "source": [
        "my_array = np.arange(0,11)\n",
        "my_array[8]  #This gives us the value of element at index 8"
      ],
      "execution_count": 0,
      "outputs": [
        {
          "output_type": "execute_result",
          "data": {
            "text/plain": [
              "8"
            ]
          },
          "metadata": {
            "tags": []
          },
          "execution_count": 59
        }
      ]
    },
    {
      "cell_type": "code",
      "metadata": {
        "id": "AYJOKWJVjVm5",
        "colab_type": "code",
        "outputId": "d9167862-2b8a-4145-a9c9-658eae7697b8",
        "colab": {}
      },
      "source": [
        "print(my_array, '\\n\\n')\n",
        "print(my_array[2:6]) #This returns everything from index 2 to 6(exclusive)\n",
        "print(my_array[:6]) #This returns everything from index 0 to 6(exclusive)\n",
        "print(my_array[5:]) #This returns everything from index 5 to the end of the array."
      ],
      "execution_count": 0,
      "outputs": [
        {
          "output_type": "stream",
          "text": [
            "[ 0  1  2  3  4  5  6  7  8  9 10] \n",
            "\n",
            "\n",
            "[2 3 4 5]\n",
            "[0 1 2 3 4 5]\n",
            "[ 5  6  7  8  9 10]\n"
          ],
          "name": "stdout"
        }
      ]
    },
    {
      "cell_type": "code",
      "metadata": {
        "id": "mtxCh9jajVm8",
        "colab_type": "code",
        "outputId": "88f85dff-aa97-4e7b-9891-affdfa1bf5de",
        "colab": {}
      },
      "source": [
        "two_d_arr = np.array([[10,20,30], [40,50,60], [70,80,90]])\n",
        "print(two_d_arr, '\\n')\n",
        "print(two_d_arr[1][2], '\\n')\n",
        "print(two_d_arr[0,1], '\\n')\n",
        "print(two_d_arr[1:3, :2], '\\n')\n",
        "print(two_d_arr[:,2], '\\n')"
      ],
      "execution_count": 0,
      "outputs": [
        {
          "output_type": "stream",
          "text": [
            "[[10 20 30]\n",
            " [40 50 60]\n",
            " [70 80 90]] \n",
            "\n",
            "60 \n",
            "\n",
            "20 \n",
            "\n",
            "[[40 50]\n",
            " [70 80]] \n",
            "\n",
            "[30 60 90] \n",
            "\n"
          ],
          "name": "stdout"
        }
      ]
    },
    {
      "cell_type": "markdown",
      "metadata": {
        "id": "4GMMFobDjVm-",
        "colab_type": "text"
      },
      "source": [
        "**boolean**"
      ]
    },
    {
      "cell_type": "code",
      "metadata": {
        "id": "IscVUyinjVnA",
        "colab_type": "code",
        "outputId": "98091553-0feb-4801-bc39-9111c718d559",
        "colab": {}
      },
      "source": [
        "two_d_arr = np.array([[10,20,30], [2,50,60], [70,7,90]])\n",
        "two_d_arr > 10"
      ],
      "execution_count": 0,
      "outputs": [
        {
          "output_type": "execute_result",
          "data": {
            "text/plain": [
              "array([[False,  True,  True],\n",
              "       [False,  True,  True],\n",
              "       [ True, False,  True]])"
            ]
          },
          "metadata": {
            "tags": []
          },
          "execution_count": 62
        }
      ]
    },
    {
      "cell_type": "markdown",
      "metadata": {
        "id": "8YpJE3MTjVnD",
        "colab_type": "text"
      },
      "source": [
        "**Performing arithmetic operations on NumPy Arrays**"
      ]
    },
    {
      "cell_type": "code",
      "metadata": {
        "id": "I_AkvYahjVnE",
        "colab_type": "code",
        "outputId": "803093a1-d4aa-4e84-a91a-08f1845ee5bd",
        "colab": {}
      },
      "source": [
        "two_d_arr = np.array([[10,20,30], [40,50,60], [70,80,90]])\n",
        "print(two_d_arr, '\\n')\n",
        "\n",
        "print(two_d_arr / 10, '\\n')\n",
        "print(two_d_arr * 10, '\\n')\n",
        "print(two_d_arr + 10, '\\n')\n",
        "print(two_d_arr - 10, '\\n')\n",
        "\n",
        "print(two_d_arr * two_d_arr, '\\n')\n",
        "print(two_d_arr - two_d_arr, '\\n')\n",
        "print(two_d_arr + two_d_arr, '\\n')\n",
        "print(two_d_arr / two_d_arr, '\\n')\n",
        "\n"
      ],
      "execution_count": 0,
      "outputs": [
        {
          "output_type": "stream",
          "text": [
            "[[10 20 30]\n",
            " [40 50 60]\n",
            " [70 80 90]] \n",
            "\n",
            "[[1. 2. 3.]\n",
            " [4. 5. 6.]\n",
            " [7. 8. 9.]] \n",
            "\n",
            "[[100 200 300]\n",
            " [400 500 600]\n",
            " [700 800 900]] \n",
            "\n",
            "[[ 20  30  40]\n",
            " [ 50  60  70]\n",
            " [ 80  90 100]] \n",
            "\n",
            "[[ 0 10 20]\n",
            " [30 40 50]\n",
            " [60 70 80]] \n",
            "\n",
            "[[ 100  400  900]\n",
            " [1600 2500 3600]\n",
            " [4900 6400 8100]] \n",
            "\n",
            "[[0 0 0]\n",
            " [0 0 0]\n",
            " [0 0 0]] \n",
            "\n",
            "[[ 20  40  60]\n",
            " [ 80 100 120]\n",
            " [140 160 180]] \n",
            "\n",
            "[[1. 1. 1.]\n",
            " [1. 1. 1.]\n",
            " [1. 1. 1.]] \n",
            "\n"
          ],
          "name": "stdout"
        }
      ]
    },
    {
      "cell_type": "code",
      "metadata": {
        "id": "2kHoWvIEjVnI",
        "colab_type": "code",
        "outputId": "5c110ab0-5ca7-41a9-8dc3-973c79ea83a3",
        "colab": {}
      },
      "source": [
        "two_d_arr = np.array([[20,30], [40,60], [70,80]])\n",
        "print(two_d_arr, '\\n')\n",
        "\n",
        "#Returns the square root of each element \n",
        "print(np.sqrt(two_d_arr), '\\n')\n",
        "\n",
        "#Returns the exponentials of each element\n",
        "print(np.exp(two_d_arr), '\\n')\n",
        "\n",
        "#Returns the sin of each element\n",
        "print(np.sin(two_d_arr), '\\n')\n",
        "\n",
        "#Returns the cosine of each element\n",
        "print(np.cos(two_d_arr), '\\n')\n",
        "\n",
        "#Returns the logarithm of each element\n",
        "print(np.log(two_d_arr), '\\n')\n",
        "\n",
        "#Returns the sum total of elements in the array\n",
        "print(np.sum(two_d_arr), '\\n')\n",
        "\n",
        "print(two_d_arr.sum(axis=0), '\\n')  #Returns the sum of all the columns in mat\n",
        "print(two_d_arr.sum(axis=1), '\\n')  #Returns the sum of all the rows in mat\n",
        "\n",
        "#Returns the standard deviation of in the array\n",
        "print(np.std(two_d_arr), '\\n')\n",
        "\n"
      ],
      "execution_count": 0,
      "outputs": [
        {
          "output_type": "stream",
          "text": [
            "[[20 30]\n",
            " [40 60]\n",
            " [70 80]] \n",
            "\n",
            "[[4.47213595 5.47722558]\n",
            " [6.32455532 7.74596669]\n",
            " [8.36660027 8.94427191]] \n",
            "\n",
            "[[4.85165195e+08 1.06864746e+13]\n",
            " [2.35385267e+17 1.14200739e+26]\n",
            " [2.51543867e+30 5.54062238e+34]] \n",
            "\n",
            "[[ 0.91294525 -0.98803162]\n",
            " [ 0.74511316 -0.30481062]\n",
            " [ 0.77389068 -0.99388865]] \n",
            "\n",
            "[[ 0.40808206  0.15425145]\n",
            " [-0.66693806 -0.95241298]\n",
            " [ 0.6333192  -0.11038724]] \n",
            "\n",
            "[[2.99573227 3.40119738]\n",
            " [3.68887945 4.09434456]\n",
            " [4.24849524 4.38202663]] \n",
            "\n",
            "300 \n",
            "\n",
            "[130 170] \n",
            "\n",
            "[ 50 100 150] \n",
            "\n",
            "21.602468994692867 \n",
            "\n"
          ],
          "name": "stdout"
        }
      ]
    },
    {
      "cell_type": "markdown",
      "metadata": {
        "id": "DHTywuOajVnL",
        "colab_type": "text"
      },
      "source": [
        "**NumPy arrays and broadcasting**\n",
        "\n",
        "![broadcasting](https://github.com/korobool/hlll_course/blob/master/topics/img/np_broadcast.png?raw=1)"
      ]
    },
    {
      "cell_type": "code",
      "metadata": {
        "id": "CwxCNZm-jVnL",
        "colab_type": "code",
        "outputId": "002ada0e-48a4-49db-ffaf-2c9a424c3813",
        "colab": {}
      },
      "source": [
        "data = np.arange(3)\n",
        "print(data, '\\n')"
      ],
      "execution_count": 0,
      "outputs": [
        {
          "output_type": "stream",
          "text": [
            "[0 1 2] \n",
            "\n"
          ],
          "name": "stdout"
        }
      ]
    },
    {
      "cell_type": "code",
      "metadata": {
        "id": "qjMQ4WBxjVnO",
        "colab_type": "code",
        "outputId": "9fad3616-3b31-4f7c-b731-63643b871bfd",
        "colab": {}
      },
      "source": [
        "print(data + 5, '\\n')"
      ],
      "execution_count": 0,
      "outputs": [
        {
          "output_type": "stream",
          "text": [
            "[5 6 7] \n",
            "\n"
          ],
          "name": "stdout"
        }
      ]
    },
    {
      "cell_type": "code",
      "metadata": {
        "id": "oURchXxijVnR",
        "colab_type": "code",
        "outputId": "1c509477-0652-4003-c0cc-e838feb7c5a9",
        "colab": {}
      },
      "source": [
        "np.ones((3,3)) + np.arange(3)"
      ],
      "execution_count": 0,
      "outputs": [
        {
          "output_type": "execute_result",
          "data": {
            "text/plain": [
              "array([[1., 2., 3.],\n",
              "       [1., 2., 3.],\n",
              "       [1., 2., 3.]])"
            ]
          },
          "metadata": {
            "tags": []
          },
          "execution_count": 67
        }
      ]
    },
    {
      "cell_type": "code",
      "metadata": {
        "id": "ZDyiTCM5jVnU",
        "colab_type": "code",
        "outputId": "bf27311b-3a5e-4697-f6cb-a2d2c934bb27",
        "colab": {}
      },
      "source": [
        "np.arange(3).reshape(3, 1) + np.arange(3)"
      ],
      "execution_count": 0,
      "outputs": [
        {
          "output_type": "execute_result",
          "data": {
            "text/plain": [
              "array([[0, 1, 2],\n",
              "       [1, 2, 3],\n",
              "       [2, 3, 4]])"
            ]
          },
          "metadata": {
            "tags": []
          },
          "execution_count": 68
        }
      ]
    },
    {
      "cell_type": "markdown",
      "metadata": {
        "id": "MuGUFZPIjVna",
        "colab_type": "text"
      },
      "source": [
        "#### Linear Algebra Examples\n",
        "\n",
        "Solve the system of equations \n",
        "\n",
        "\n",
        "$\n",
        "\\begin{cases} 3x_0+x_1 = 9\\\\ x_0+2x_1 = 8 \\end{cases}\n",
        "$"
      ]
    },
    {
      "cell_type": "code",
      "metadata": {
        "id": "2D7doP6WjVnb",
        "colab_type": "code",
        "outputId": "9369f37e-a8b4-4035-cf22-28b4d76a1781",
        "colab": {}
      },
      "source": [
        "a = np.array([[3,1], [1,2]])\n",
        "b = np.array([9,8])\n",
        "x = np.linalg.solve(a, b)\n",
        "\n",
        "print(x)"
      ],
      "execution_count": 0,
      "outputs": [
        {
          "output_type": "stream",
          "text": [
            "[2. 3.]\n"
          ],
          "name": "stdout"
        }
      ]
    },
    {
      "cell_type": "markdown",
      "metadata": {
        "id": "lI2-Ldk0jVne",
        "colab_type": "text"
      },
      "source": [
        "# meet pandas\n",
        "\n",
        "see [this](https://cloudxlab.com/blog/numpy-pandas-introduction/)"
      ]
    },
    {
      "cell_type": "markdown",
      "metadata": {
        "id": "6ockm_LhjVnf",
        "colab_type": "text"
      },
      "source": [
        "**Learning Objectives:**\n",
        "  * Gain an introduction to the `DataFrame` and `Series` data structures of the *pandas* library\n",
        "  * Access and manipulate data within a `DataFrame` and `Series`\n",
        "  * Import CSV data into a *pandas* `DataFrame`\n",
        "  * Reindex a `DataFrame` to shuffle data\n",
        "  \n",
        "  \n",
        "[*pandas*](http://pandas.pydata.org/) is a column-oriented data analysis API. It's a great tool for handling and analyzing input data, and many ML frameworks support *pandas* data structures as inputs.\n",
        "Although a comprehensive introduction to the *pandas* API would span many pages, the core concepts are fairly straightforward, and we'll present them below. For a more complete reference, the [*pandas* docs site](http://pandas.pydata.org/pandas-docs/stable/index.html) contains extensive documentation and many tutorials."
      ]
    },
    {
      "cell_type": "markdown",
      "metadata": {
        "id": "Yu6yd2QJjVni",
        "colab_type": "text"
      },
      "source": [
        "## Basic Concepts\n",
        "\n",
        "The following line imports the *pandas* API and prints the API version:"
      ]
    },
    {
      "cell_type": "code",
      "metadata": {
        "id": "NadLn2zsjVnj",
        "colab_type": "code",
        "colab": {}
      },
      "source": [
        "import pandas as pd"
      ],
      "execution_count": 0,
      "outputs": []
    },
    {
      "cell_type": "markdown",
      "metadata": {
        "id": "lM_53YUcjVnm",
        "colab_type": "text"
      },
      "source": [
        "The primary data structures in *pandas* are implemented as two classes:\n",
        "\n",
        "  * **`DataFrame`**, which you can imagine as a relational data table, with rows and named columns.\n",
        "  * **`Series`**, which is a single column. A `DataFrame` contains one or more `Series` and a name for each `Series`.\n",
        "\n",
        "The data frame is a commonly used abstraction for data manipulation. Similar implementations exist in [Spark](https://spark.apache.org/) and [R](https://www.r-project.org/about.html).\n",
        "\n",
        "One way to create a `Series` is to construct a `Series` object. For example:"
      ]
    },
    {
      "cell_type": "code",
      "metadata": {
        "id": "yk62wbJxjVnn",
        "colab_type": "code",
        "outputId": "60af66d4-bc15-4022-bb2d-ec1bdacb2165",
        "colab": {}
      },
      "source": [
        "pd.Series(['San Francisco', 'San Jose', 'Sacramento'])"
      ],
      "execution_count": 0,
      "outputs": [
        {
          "output_type": "execute_result",
          "data": {
            "text/plain": [
              "0    San Francisco\n",
              "1         San Jose\n",
              "2       Sacramento\n",
              "dtype: object"
            ]
          },
          "metadata": {
            "tags": []
          },
          "execution_count": 71
        }
      ]
    },
    {
      "cell_type": "markdown",
      "metadata": {
        "id": "0cievKWpjVnp",
        "colab_type": "text"
      },
      "source": [
        "`DataFrame` objects can be created by passing a `dict` mapping `string` column names to their respective `Series`. If the `Series` don't match in length, missing values are filled with special [NA/NaN](http://pandas.pydata.org/pandas-docs/stable/missing_data.html) values. Example:"
      ]
    },
    {
      "cell_type": "code",
      "metadata": {
        "id": "mT79Ia3FjVnp",
        "colab_type": "code",
        "outputId": "0e1e26c6-ee02-4f8a-f31f-d86828f08d2c",
        "colab": {}
      },
      "source": [
        "city_names = pd.Series(['San Francisco', 'San Jose', 'Sacramento'])\n",
        "population = pd.Series([852469, 1015785, 485199])\n",
        "\n",
        "pd.DataFrame({ 'City name': city_names, 'Population': population })"
      ],
      "execution_count": 0,
      "outputs": [
        {
          "output_type": "execute_result",
          "data": {
            "text/html": [
              "<div>\n",
              "<style scoped>\n",
              "    .dataframe tbody tr th:only-of-type {\n",
              "        vertical-align: middle;\n",
              "    }\n",
              "\n",
              "    .dataframe tbody tr th {\n",
              "        vertical-align: top;\n",
              "    }\n",
              "\n",
              "    .dataframe thead th {\n",
              "        text-align: right;\n",
              "    }\n",
              "</style>\n",
              "<table border=\"1\" class=\"dataframe\">\n",
              "  <thead>\n",
              "    <tr style=\"text-align: right;\">\n",
              "      <th></th>\n",
              "      <th>City name</th>\n",
              "      <th>Population</th>\n",
              "    </tr>\n",
              "  </thead>\n",
              "  <tbody>\n",
              "    <tr>\n",
              "      <th>0</th>\n",
              "      <td>San Francisco</td>\n",
              "      <td>852469</td>\n",
              "    </tr>\n",
              "    <tr>\n",
              "      <th>1</th>\n",
              "      <td>San Jose</td>\n",
              "      <td>1015785</td>\n",
              "    </tr>\n",
              "    <tr>\n",
              "      <th>2</th>\n",
              "      <td>Sacramento</td>\n",
              "      <td>485199</td>\n",
              "    </tr>\n",
              "  </tbody>\n",
              "</table>\n",
              "</div>"
            ],
            "text/plain": [
              "       City name  Population\n",
              "0  San Francisco      852469\n",
              "1       San Jose     1015785\n",
              "2     Sacramento      485199"
            ]
          },
          "metadata": {
            "tags": []
          },
          "execution_count": 72
        }
      ]
    },
    {
      "cell_type": "markdown",
      "metadata": {
        "id": "YFNbMVGEjVnu",
        "colab_type": "text"
      },
      "source": [
        "But most of the time, you load an entire file into a `DataFrame`. The following example loads a file with California housing data. Run the following cell to load the data and create feature definitions:"
      ]
    },
    {
      "cell_type": "code",
      "metadata": {
        "id": "559De9rkjVnv",
        "colab_type": "code",
        "outputId": "5d66aa90-41b5-4c96-b1dc-65a85ed9af4a",
        "colab": {}
      },
      "source": [
        "california_housing_dataframe = pd.read_csv(\"https://download.mlcc.google.com/mledu-datasets/california_housing_train.csv\", sep=\",\")\n",
        "california_housing_dataframe.describe()"
      ],
      "execution_count": 0,
      "outputs": [
        {
          "output_type": "execute_result",
          "data": {
            "text/html": [
              "<div>\n",
              "<style scoped>\n",
              "    .dataframe tbody tr th:only-of-type {\n",
              "        vertical-align: middle;\n",
              "    }\n",
              "\n",
              "    .dataframe tbody tr th {\n",
              "        vertical-align: top;\n",
              "    }\n",
              "\n",
              "    .dataframe thead th {\n",
              "        text-align: right;\n",
              "    }\n",
              "</style>\n",
              "<table border=\"1\" class=\"dataframe\">\n",
              "  <thead>\n",
              "    <tr style=\"text-align: right;\">\n",
              "      <th></th>\n",
              "      <th>longitude</th>\n",
              "      <th>latitude</th>\n",
              "      <th>housing_median_age</th>\n",
              "      <th>total_rooms</th>\n",
              "      <th>total_bedrooms</th>\n",
              "      <th>population</th>\n",
              "      <th>households</th>\n",
              "      <th>median_income</th>\n",
              "      <th>median_house_value</th>\n",
              "    </tr>\n",
              "  </thead>\n",
              "  <tbody>\n",
              "    <tr>\n",
              "      <th>count</th>\n",
              "      <td>17000.000000</td>\n",
              "      <td>17000.000000</td>\n",
              "      <td>17000.000000</td>\n",
              "      <td>17000.000000</td>\n",
              "      <td>17000.000000</td>\n",
              "      <td>17000.000000</td>\n",
              "      <td>17000.000000</td>\n",
              "      <td>17000.000000</td>\n",
              "      <td>17000.000000</td>\n",
              "    </tr>\n",
              "    <tr>\n",
              "      <th>mean</th>\n",
              "      <td>-119.562108</td>\n",
              "      <td>35.625225</td>\n",
              "      <td>28.589353</td>\n",
              "      <td>2643.664412</td>\n",
              "      <td>539.410824</td>\n",
              "      <td>1429.573941</td>\n",
              "      <td>501.221941</td>\n",
              "      <td>3.883578</td>\n",
              "      <td>207300.912353</td>\n",
              "    </tr>\n",
              "    <tr>\n",
              "      <th>std</th>\n",
              "      <td>2.005166</td>\n",
              "      <td>2.137340</td>\n",
              "      <td>12.586937</td>\n",
              "      <td>2179.947071</td>\n",
              "      <td>421.499452</td>\n",
              "      <td>1147.852959</td>\n",
              "      <td>384.520841</td>\n",
              "      <td>1.908157</td>\n",
              "      <td>115983.764387</td>\n",
              "    </tr>\n",
              "    <tr>\n",
              "      <th>min</th>\n",
              "      <td>-124.350000</td>\n",
              "      <td>32.540000</td>\n",
              "      <td>1.000000</td>\n",
              "      <td>2.000000</td>\n",
              "      <td>1.000000</td>\n",
              "      <td>3.000000</td>\n",
              "      <td>1.000000</td>\n",
              "      <td>0.499900</td>\n",
              "      <td>14999.000000</td>\n",
              "    </tr>\n",
              "    <tr>\n",
              "      <th>25%</th>\n",
              "      <td>-121.790000</td>\n",
              "      <td>33.930000</td>\n",
              "      <td>18.000000</td>\n",
              "      <td>1462.000000</td>\n",
              "      <td>297.000000</td>\n",
              "      <td>790.000000</td>\n",
              "      <td>282.000000</td>\n",
              "      <td>2.566375</td>\n",
              "      <td>119400.000000</td>\n",
              "    </tr>\n",
              "    <tr>\n",
              "      <th>50%</th>\n",
              "      <td>-118.490000</td>\n",
              "      <td>34.250000</td>\n",
              "      <td>29.000000</td>\n",
              "      <td>2127.000000</td>\n",
              "      <td>434.000000</td>\n",
              "      <td>1167.000000</td>\n",
              "      <td>409.000000</td>\n",
              "      <td>3.544600</td>\n",
              "      <td>180400.000000</td>\n",
              "    </tr>\n",
              "    <tr>\n",
              "      <th>75%</th>\n",
              "      <td>-118.000000</td>\n",
              "      <td>37.720000</td>\n",
              "      <td>37.000000</td>\n",
              "      <td>3151.250000</td>\n",
              "      <td>648.250000</td>\n",
              "      <td>1721.000000</td>\n",
              "      <td>605.250000</td>\n",
              "      <td>4.767000</td>\n",
              "      <td>265000.000000</td>\n",
              "    </tr>\n",
              "    <tr>\n",
              "      <th>max</th>\n",
              "      <td>-114.310000</td>\n",
              "      <td>41.950000</td>\n",
              "      <td>52.000000</td>\n",
              "      <td>37937.000000</td>\n",
              "      <td>6445.000000</td>\n",
              "      <td>35682.000000</td>\n",
              "      <td>6082.000000</td>\n",
              "      <td>15.000100</td>\n",
              "      <td>500001.000000</td>\n",
              "    </tr>\n",
              "  </tbody>\n",
              "</table>\n",
              "</div>"
            ],
            "text/plain": [
              "          longitude      latitude  housing_median_age   total_rooms  \\\n",
              "count  17000.000000  17000.000000        17000.000000  17000.000000   \n",
              "mean    -119.562108     35.625225           28.589353   2643.664412   \n",
              "std        2.005166      2.137340           12.586937   2179.947071   \n",
              "min     -124.350000     32.540000            1.000000      2.000000   \n",
              "25%     -121.790000     33.930000           18.000000   1462.000000   \n",
              "50%     -118.490000     34.250000           29.000000   2127.000000   \n",
              "75%     -118.000000     37.720000           37.000000   3151.250000   \n",
              "max     -114.310000     41.950000           52.000000  37937.000000   \n",
              "\n",
              "       total_bedrooms    population    households  median_income  \\\n",
              "count    17000.000000  17000.000000  17000.000000   17000.000000   \n",
              "mean       539.410824   1429.573941    501.221941       3.883578   \n",
              "std        421.499452   1147.852959    384.520841       1.908157   \n",
              "min          1.000000      3.000000      1.000000       0.499900   \n",
              "25%        297.000000    790.000000    282.000000       2.566375   \n",
              "50%        434.000000   1167.000000    409.000000       3.544600   \n",
              "75%        648.250000   1721.000000    605.250000       4.767000   \n",
              "max       6445.000000  35682.000000   6082.000000      15.000100   \n",
              "\n",
              "       median_house_value  \n",
              "count        17000.000000  \n",
              "mean        207300.912353  \n",
              "std         115983.764387  \n",
              "min          14999.000000  \n",
              "25%         119400.000000  \n",
              "50%         180400.000000  \n",
              "75%         265000.000000  \n",
              "max         500001.000000  "
            ]
          },
          "metadata": {
            "tags": []
          },
          "execution_count": 73
        }
      ]
    },
    {
      "cell_type": "markdown",
      "metadata": {
        "id": "lmSOO1ZKjVny",
        "colab_type": "text"
      },
      "source": [
        "The example above used `DataFrame.describe` to show interesting statistics about a `DataFrame`. Another useful function is `DataFrame.head`, which displays the first few records of a `DataFrame`:"
      ]
    },
    {
      "cell_type": "code",
      "metadata": {
        "id": "cdWbwCpojVnz",
        "colab_type": "code",
        "outputId": "1862a0f2-a59c-4a68-9ddf-b85ca51fb356",
        "colab": {}
      },
      "source": [
        "california_housing_dataframe.head()"
      ],
      "execution_count": 0,
      "outputs": [
        {
          "output_type": "execute_result",
          "data": {
            "text/html": [
              "<div>\n",
              "<style scoped>\n",
              "    .dataframe tbody tr th:only-of-type {\n",
              "        vertical-align: middle;\n",
              "    }\n",
              "\n",
              "    .dataframe tbody tr th {\n",
              "        vertical-align: top;\n",
              "    }\n",
              "\n",
              "    .dataframe thead th {\n",
              "        text-align: right;\n",
              "    }\n",
              "</style>\n",
              "<table border=\"1\" class=\"dataframe\">\n",
              "  <thead>\n",
              "    <tr style=\"text-align: right;\">\n",
              "      <th></th>\n",
              "      <th>longitude</th>\n",
              "      <th>latitude</th>\n",
              "      <th>housing_median_age</th>\n",
              "      <th>total_rooms</th>\n",
              "      <th>total_bedrooms</th>\n",
              "      <th>population</th>\n",
              "      <th>households</th>\n",
              "      <th>median_income</th>\n",
              "      <th>median_house_value</th>\n",
              "    </tr>\n",
              "  </thead>\n",
              "  <tbody>\n",
              "    <tr>\n",
              "      <th>0</th>\n",
              "      <td>-114.31</td>\n",
              "      <td>34.19</td>\n",
              "      <td>15.0</td>\n",
              "      <td>5612.0</td>\n",
              "      <td>1283.0</td>\n",
              "      <td>1015.0</td>\n",
              "      <td>472.0</td>\n",
              "      <td>1.4936</td>\n",
              "      <td>66900.0</td>\n",
              "    </tr>\n",
              "    <tr>\n",
              "      <th>1</th>\n",
              "      <td>-114.47</td>\n",
              "      <td>34.40</td>\n",
              "      <td>19.0</td>\n",
              "      <td>7650.0</td>\n",
              "      <td>1901.0</td>\n",
              "      <td>1129.0</td>\n",
              "      <td>463.0</td>\n",
              "      <td>1.8200</td>\n",
              "      <td>80100.0</td>\n",
              "    </tr>\n",
              "    <tr>\n",
              "      <th>2</th>\n",
              "      <td>-114.56</td>\n",
              "      <td>33.69</td>\n",
              "      <td>17.0</td>\n",
              "      <td>720.0</td>\n",
              "      <td>174.0</td>\n",
              "      <td>333.0</td>\n",
              "      <td>117.0</td>\n",
              "      <td>1.6509</td>\n",
              "      <td>85700.0</td>\n",
              "    </tr>\n",
              "    <tr>\n",
              "      <th>3</th>\n",
              "      <td>-114.57</td>\n",
              "      <td>33.64</td>\n",
              "      <td>14.0</td>\n",
              "      <td>1501.0</td>\n",
              "      <td>337.0</td>\n",
              "      <td>515.0</td>\n",
              "      <td>226.0</td>\n",
              "      <td>3.1917</td>\n",
              "      <td>73400.0</td>\n",
              "    </tr>\n",
              "    <tr>\n",
              "      <th>4</th>\n",
              "      <td>-114.57</td>\n",
              "      <td>33.57</td>\n",
              "      <td>20.0</td>\n",
              "      <td>1454.0</td>\n",
              "      <td>326.0</td>\n",
              "      <td>624.0</td>\n",
              "      <td>262.0</td>\n",
              "      <td>1.9250</td>\n",
              "      <td>65500.0</td>\n",
              "    </tr>\n",
              "  </tbody>\n",
              "</table>\n",
              "</div>"
            ],
            "text/plain": [
              "   longitude  latitude  housing_median_age  total_rooms  total_bedrooms  \\\n",
              "0    -114.31     34.19                15.0       5612.0          1283.0   \n",
              "1    -114.47     34.40                19.0       7650.0          1901.0   \n",
              "2    -114.56     33.69                17.0        720.0           174.0   \n",
              "3    -114.57     33.64                14.0       1501.0           337.0   \n",
              "4    -114.57     33.57                20.0       1454.0           326.0   \n",
              "\n",
              "   population  households  median_income  median_house_value  \n",
              "0      1015.0       472.0         1.4936             66900.0  \n",
              "1      1129.0       463.0         1.8200             80100.0  \n",
              "2       333.0       117.0         1.6509             85700.0  \n",
              "3       515.0       226.0         3.1917             73400.0  \n",
              "4       624.0       262.0         1.9250             65500.0  "
            ]
          },
          "metadata": {
            "tags": []
          },
          "execution_count": 74
        }
      ]
    },
    {
      "cell_type": "markdown",
      "metadata": {
        "id": "iNSoYsc8jVn4",
        "colab_type": "text"
      },
      "source": [
        "Another powerful feature of *pandas* is graphing. For example, `DataFrame.hist` lets you quickly study the distribution of values in a column:"
      ]
    },
    {
      "cell_type": "code",
      "metadata": {
        "id": "ufJEB_EtjVn5",
        "colab_type": "code",
        "outputId": "54f45212-11a7-481b-982d-98216540a6a6",
        "colab": {}
      },
      "source": [
        "%matplotlib inline\n",
        "california_housing_dataframe.hist('housing_median_age')"
      ],
      "execution_count": 0,
      "outputs": [
        {
          "output_type": "execute_result",
          "data": {
            "text/plain": [
              "array([[<matplotlib.axes._subplots.AxesSubplot object at 0x7f73f9c99908>]],\n",
              "      dtype=object)"
            ]
          },
          "metadata": {
            "tags": []
          },
          "execution_count": 75
        },
        {
          "output_type": "display_data",
          "data": {
            "image/png": "[encoded data removed]",
            "text/plain": [
              "<Figure size 432x288 with 1 Axes>"
            ]
          },
          "metadata": {
            "tags": [],
            "needs_background": "light"
          }
        }
      ]
    },
    {
      "cell_type": "markdown",
      "metadata": {
        "id": "lskYEKxpjVn8",
        "colab_type": "text"
      },
      "source": [
        "## Accessing Data\n",
        "\n",
        "You can access `DataFrame` data using familiar Python dict/list operations:"
      ]
    },
    {
      "cell_type": "code",
      "metadata": {
        "id": "T95FPlW-jVn8",
        "colab_type": "code",
        "outputId": "2a4a55fc-9414-45dd-f0a1-9e2272b0c4ab",
        "colab": {}
      },
      "source": [
        "cities = pd.DataFrame({ 'City name': city_names, 'Population': population })\n",
        "print(type(cities['City name']))\n",
        "cities['City name']"
      ],
      "execution_count": 0,
      "outputs": [
        {
          "output_type": "stream",
          "text": [
            "<class 'pandas.core.series.Series'>\n"
          ],
          "name": "stdout"
        },
        {
          "output_type": "execute_result",
          "data": {
            "text/plain": [
              "0    San Francisco\n",
              "1         San Jose\n",
              "2       Sacramento\n",
              "Name: City name, dtype: object"
            ]
          },
          "metadata": {
            "tags": []
          },
          "execution_count": 76
        }
      ]
    },
    {
      "cell_type": "code",
      "metadata": {
        "id": "pYVMUDgEjVn_",
        "colab_type": "code",
        "outputId": "da958394-fba7-4e15-9528-23efde4e7de9",
        "colab": {}
      },
      "source": [
        "print(type(cities['City name'][1]))\n",
        "cities['City name'][1]"
      ],
      "execution_count": 0,
      "outputs": [
        {
          "output_type": "stream",
          "text": [
            "<class 'str'>\n"
          ],
          "name": "stdout"
        },
        {
          "output_type": "execute_result",
          "data": {
            "text/plain": [
              "'San Jose'"
            ]
          },
          "metadata": {
            "tags": []
          },
          "execution_count": 77
        }
      ]
    },
    {
      "cell_type": "code",
      "metadata": {
        "id": "OFOAGXrrjVoB",
        "colab_type": "code",
        "outputId": "259f280c-7499-46f4-81f5-b9bc35f103e9",
        "colab": {}
      },
      "source": [
        "print(type(cities[0:2]))\n",
        "cities[0:2]"
      ],
      "execution_count": 0,
      "outputs": [
        {
          "output_type": "stream",
          "text": [
            "<class 'pandas.core.frame.DataFrame'>\n"
          ],
          "name": "stdout"
        },
        {
          "output_type": "execute_result",
          "data": {
            "text/html": [
              "<div>\n",
              "<style scoped>\n",
              "    .dataframe tbody tr th:only-of-type {\n",
              "        vertical-align: middle;\n",
              "    }\n",
              "\n",
              "    .dataframe tbody tr th {\n",
              "        vertical-align: top;\n",
              "    }\n",
              "\n",
              "    .dataframe thead th {\n",
              "        text-align: right;\n",
              "    }\n",
              "</style>\n",
              "<table border=\"1\" class=\"dataframe\">\n",
              "  <thead>\n",
              "    <tr style=\"text-align: right;\">\n",
              "      <th></th>\n",
              "      <th>City name</th>\n",
              "      <th>Population</th>\n",
              "    </tr>\n",
              "  </thead>\n",
              "  <tbody>\n",
              "    <tr>\n",
              "      <th>0</th>\n",
              "      <td>San Francisco</td>\n",
              "      <td>852469</td>\n",
              "    </tr>\n",
              "    <tr>\n",
              "      <th>1</th>\n",
              "      <td>San Jose</td>\n",
              "      <td>1015785</td>\n",
              "    </tr>\n",
              "  </tbody>\n",
              "</table>\n",
              "</div>"
            ],
            "text/plain": [
              "       City name  Population\n",
              "0  San Francisco      852469\n",
              "1       San Jose     1015785"
            ]
          },
          "metadata": {
            "tags": []
          },
          "execution_count": 78
        }
      ]
    },
    {
      "cell_type": "markdown",
      "metadata": {
        "id": "PexTeIodjVoD",
        "colab_type": "text"
      },
      "source": [
        "In addition, *pandas* provides an extremely rich API for advanced [indexing and selection](http://pandas.pydata.org/pandas-docs/stable/indexing.html) that is too extensive to be covered here."
      ]
    },
    {
      "cell_type": "markdown",
      "metadata": {
        "id": "EkJmm-R1jVoD",
        "colab_type": "text"
      },
      "source": [
        "## Manipulating Data\n",
        "\n",
        "You may apply Python's basic arithmetic operations to `Series`. For example:"
      ]
    },
    {
      "cell_type": "code",
      "metadata": {
        "id": "o2Wx-n6WjVoE",
        "colab_type": "code",
        "outputId": "51f141f0-25ef-4b94-8481-eac933caa693",
        "colab": {}
      },
      "source": [
        "population / 1000."
      ],
      "execution_count": 0,
      "outputs": [
        {
          "output_type": "execute_result",
          "data": {
            "text/plain": [
              "0     852.469\n",
              "1    1015.785\n",
              "2     485.199\n",
              "dtype: float64"
            ]
          },
          "metadata": {
            "tags": []
          },
          "execution_count": 79
        }
      ]
    },
    {
      "cell_type": "markdown",
      "metadata": {
        "id": "iEpOmPP-jVoG",
        "colab_type": "text"
      },
      "source": [
        "as long as **NumPy** is a popular toolkit for scientific computing. pandas Series can be used as arguments to most NumPy functions:"
      ]
    },
    {
      "cell_type": "code",
      "metadata": {
        "id": "ESbjBYBSjVoJ",
        "colab_type": "code",
        "outputId": "84c0d9b3-1d23-4ebd-f69d-81b248bee780",
        "colab": {}
      },
      "source": [
        "np.log(population)"
      ],
      "execution_count": 0,
      "outputs": [
        {
          "output_type": "execute_result",
          "data": {
            "text/plain": [
              "0    13.655892\n",
              "1    13.831172\n",
              "2    13.092314\n",
              "dtype: float64"
            ]
          },
          "metadata": {
            "tags": []
          },
          "execution_count": 80
        }
      ]
    },
    {
      "cell_type": "markdown",
      "metadata": {
        "id": "8tS0KkznjVoM",
        "colab_type": "text"
      },
      "source": [
        "For more complex single-column transformations, you can use `Series.apply`. Like the Python [map function](https://docs.python.org/2/library/functions.html#map), \n",
        "`Series.apply` accepts as an argument a [lambda function](https://docs.python.org/2/tutorial/controlflow.html#lambda-expressions), which is applied to each value.\n",
        "\n",
        "The example below creates a new `Series` that indicates whether `population` is over one million:"
      ]
    },
    {
      "cell_type": "code",
      "metadata": {
        "id": "wQXzNxBRjVoM",
        "colab_type": "code",
        "outputId": "fcbc9e9e-4b83-4947-c780-f44ba988074a",
        "colab": {}
      },
      "source": [
        "population.apply(lambda val: val > 1000000)"
      ],
      "execution_count": 0,
      "outputs": [
        {
          "output_type": "execute_result",
          "data": {
            "text/plain": [
              "0    False\n",
              "1     True\n",
              "2    False\n",
              "dtype: bool"
            ]
          },
          "metadata": {
            "tags": []
          },
          "execution_count": 81
        }
      ]
    },
    {
      "cell_type": "markdown",
      "metadata": {
        "id": "9A2sTAWxjVoO",
        "colab_type": "text"
      },
      "source": [
        "Modifying `DataFrames` is also straightforward. For example, the following code adds two `Series` to an existing `DataFrame`:"
      ]
    },
    {
      "cell_type": "code",
      "metadata": {
        "id": "7ipT1XUcjVoP",
        "colab_type": "code",
        "outputId": "48ad7a73-13f1-49a7-a0e7-842d1d2b0c09",
        "colab": {}
      },
      "source": [
        "cities['new col'] = cities['Population'].apply(lambda val: val/200)\n",
        "cities"
      ],
      "execution_count": 0,
      "outputs": [
        {
          "output_type": "execute_result",
          "data": {
            "text/html": [
              "<div>\n",
              "<style scoped>\n",
              "    .dataframe tbody tr th:only-of-type {\n",
              "        vertical-align: middle;\n",
              "    }\n",
              "\n",
              "    .dataframe tbody tr th {\n",
              "        vertical-align: top;\n",
              "    }\n",
              "\n",
              "    .dataframe thead th {\n",
              "        text-align: right;\n",
              "    }\n",
              "</style>\n",
              "<table border=\"1\" class=\"dataframe\">\n",
              "  <thead>\n",
              "    <tr style=\"text-align: right;\">\n",
              "      <th></th>\n",
              "      <th>City name</th>\n",
              "      <th>Population</th>\n",
              "      <th>new col</th>\n",
              "    </tr>\n",
              "  </thead>\n",
              "  <tbody>\n",
              "    <tr>\n",
              "      <th>0</th>\n",
              "      <td>San Francisco</td>\n",
              "      <td>852469</td>\n",
              "      <td>4262.345</td>\n",
              "    </tr>\n",
              "    <tr>\n",
              "      <th>1</th>\n",
              "      <td>San Jose</td>\n",
              "      <td>1015785</td>\n",
              "      <td>5078.925</td>\n",
              "    </tr>\n",
              "    <tr>\n",
              "      <th>2</th>\n",
              "      <td>Sacramento</td>\n",
              "      <td>485199</td>\n",
              "      <td>2425.995</td>\n",
              "    </tr>\n",
              "  </tbody>\n",
              "</table>\n",
              "</div>"
            ],
            "text/plain": [
              "       City name  Population   new col\n",
              "0  San Francisco      852469  4262.345\n",
              "1       San Jose     1015785  5078.925\n",
              "2     Sacramento      485199  2425.995"
            ]
          },
          "metadata": {
            "tags": []
          },
          "execution_count": 82
        }
      ]
    },
    {
      "cell_type": "code",
      "metadata": {
        "id": "eYUOYUqUjVoU",
        "colab_type": "code",
        "outputId": "8fd99dcd-2da5-4f67-8cbe-add1d8a3acdc",
        "colab": {}
      },
      "source": [
        "cities['Area square miles'] = pd.Series([46.87, 176.53, 97.92])\n",
        "cities['Population density'] = cities['Population'] / cities['Area square miles']\n",
        "cities"
      ],
      "execution_count": 0,
      "outputs": [
        {
          "output_type": "execute_result",
          "data": {
            "text/html": [
              "<div>\n",
              "<style scoped>\n",
              "    .dataframe tbody tr th:only-of-type {\n",
              "        vertical-align: middle;\n",
              "    }\n",
              "\n",
              "    .dataframe tbody tr th {\n",
              "        vertical-align: top;\n",
              "    }\n",
              "\n",
              "    .dataframe thead th {\n",
              "        text-align: right;\n",
              "    }\n",
              "</style>\n",
              "<table border=\"1\" class=\"dataframe\">\n",
              "  <thead>\n",
              "    <tr style=\"text-align: right;\">\n",
              "      <th></th>\n",
              "      <th>City name</th>\n",
              "      <th>Population</th>\n",
              "      <th>new col</th>\n",
              "      <th>Area square miles</th>\n",
              "      <th>Population density</th>\n",
              "    </tr>\n",
              "  </thead>\n",
              "  <tbody>\n",
              "    <tr>\n",
              "      <th>0</th>\n",
              "      <td>San Francisco</td>\n",
              "      <td>852469</td>\n",
              "      <td>4262.345</td>\n",
              "      <td>46.87</td>\n",
              "      <td>18187.945381</td>\n",
              "    </tr>\n",
              "    <tr>\n",
              "      <th>1</th>\n",
              "      <td>San Jose</td>\n",
              "      <td>1015785</td>\n",
              "      <td>5078.925</td>\n",
              "      <td>176.53</td>\n",
              "      <td>5754.177760</td>\n",
              "    </tr>\n",
              "    <tr>\n",
              "      <th>2</th>\n",
              "      <td>Sacramento</td>\n",
              "      <td>485199</td>\n",
              "      <td>2425.995</td>\n",
              "      <td>97.92</td>\n",
              "      <td>4955.055147</td>\n",
              "    </tr>\n",
              "  </tbody>\n",
              "</table>\n",
              "</div>"
            ],
            "text/plain": [
              "       City name  Population   new col  Area square miles  Population density\n",
              "0  San Francisco      852469  4262.345              46.87        18187.945381\n",
              "1       San Jose     1015785  5078.925             176.53         5754.177760\n",
              "2     Sacramento      485199  2425.995              97.92         4955.055147"
            ]
          },
          "metadata": {
            "tags": []
          },
          "execution_count": 83
        }
      ]
    },
    {
      "cell_type": "code",
      "metadata": {
        "id": "-IaTrIqMjVoW",
        "colab_type": "code",
        "outputId": "df3a61a6-305d-4661-8e07-3e946f0fa3d4",
        "colab": {}
      },
      "source": [
        "data = pd.read_csv('https://raw.githubusercontent.com/korobool/hlll_course/master/tasks/data/titanic/test.csv')\n",
        "\n",
        "data.head()"
      ],
      "execution_count": 0,
      "outputs": [
        {
          "output_type": "execute_result",
          "data": {
            "text/html": [
              "<div>\n",
              "<style scoped>\n",
              "    .dataframe tbody tr th:only-of-type {\n",
              "        vertical-align: middle;\n",
              "    }\n",
              "\n",
              "    .dataframe tbody tr th {\n",
              "        vertical-align: top;\n",
              "    }\n",
              "\n",
              "    .dataframe thead th {\n",
              "        text-align: right;\n",
              "    }\n",
              "</style>\n",
              "<table border=\"1\" class=\"dataframe\">\n",
              "  <thead>\n",
              "    <tr style=\"text-align: right;\">\n",
              "      <th></th>\n",
              "      <th>PassengerId</th>\n",
              "      <th>Pclass</th>\n",
              "      <th>Name</th>\n",
              "      <th>Sex</th>\n",
              "      <th>Age</th>\n",
              "      <th>SibSp</th>\n",
              "      <th>Parch</th>\n",
              "      <th>Ticket</th>\n",
              "      <th>Fare</th>\n",
              "      <th>Cabin</th>\n",
              "      <th>Embarked</th>\n",
              "    </tr>\n",
              "  </thead>\n",
              "  <tbody>\n",
              "    <tr>\n",
              "      <th>0</th>\n",
              "      <td>892</td>\n",
              "      <td>3</td>\n",
              "      <td>Kelly, Mr. James</td>\n",
              "      <td>male</td>\n",
              "      <td>34.5</td>\n",
              "      <td>0</td>\n",
              "      <td>0</td>\n",
              "      <td>330911</td>\n",
              "      <td>7.8292</td>\n",
              "      <td>NaN</td>\n",
              "      <td>Q</td>\n",
              "    </tr>\n",
              "    <tr>\n",
              "      <th>1</th>\n",
              "      <td>893</td>\n",
              "      <td>3</td>\n",
              "      <td>Wilkes, Mrs. James (Ellen Needs)</td>\n",
              "      <td>female</td>\n",
              "      <td>47.0</td>\n",
              "      <td>1</td>\n",
              "      <td>0</td>\n",
              "      <td>363272</td>\n",
              "      <td>7.0000</td>\n",
              "      <td>NaN</td>\n",
              "      <td>S</td>\n",
              "    </tr>\n",
              "    <tr>\n",
              "      <th>2</th>\n",
              "      <td>894</td>\n",
              "      <td>2</td>\n",
              "      <td>Myles, Mr. Thomas Francis</td>\n",
              "      <td>male</td>\n",
              "      <td>62.0</td>\n",
              "      <td>0</td>\n",
              "      <td>0</td>\n",
              "      <td>240276</td>\n",
              "      <td>9.6875</td>\n",
              "      <td>NaN</td>\n",
              "      <td>Q</td>\n",
              "    </tr>\n",
              "    <tr>\n",
              "      <th>3</th>\n",
              "      <td>895</td>\n",
              "      <td>3</td>\n",
              "      <td>Wirz, Mr. Albert</td>\n",
              "      <td>male</td>\n",
              "      <td>27.0</td>\n",
              "      <td>0</td>\n",
              "      <td>0</td>\n",
              "      <td>315154</td>\n",
              "      <td>8.6625</td>\n",
              "      <td>NaN</td>\n",
              "      <td>S</td>\n",
              "    </tr>\n",
              "    <tr>\n",
              "      <th>4</th>\n",
              "      <td>896</td>\n",
              "      <td>3</td>\n",
              "      <td>Hirvonen, Mrs. Alexander (Helga E Lindqvist)</td>\n",
              "      <td>female</td>\n",
              "      <td>22.0</td>\n",
              "      <td>1</td>\n",
              "      <td>1</td>\n",
              "      <td>3101298</td>\n",
              "      <td>12.2875</td>\n",
              "      <td>NaN</td>\n",
              "      <td>S</td>\n",
              "    </tr>\n",
              "  </tbody>\n",
              "</table>\n",
              "</div>"
            ],
            "text/plain": [
              "   PassengerId  Pclass                                          Name     Sex  \\\n",
              "0          892       3                              Kelly, Mr. James    male   \n",
              "1          893       3              Wilkes, Mrs. James (Ellen Needs)  female   \n",
              "2          894       2                     Myles, Mr. Thomas Francis    male   \n",
              "3          895       3                              Wirz, Mr. Albert    male   \n",
              "4          896       3  Hirvonen, Mrs. Alexander (Helga E Lindqvist)  female   \n",
              "\n",
              "    Age  SibSp  Parch   Ticket     Fare Cabin Embarked  \n",
              "0  34.5      0      0   330911   7.8292   NaN        Q  \n",
              "1  47.0      1      0   363272   7.0000   NaN        S  \n",
              "2  62.0      0      0   240276   9.6875   NaN        Q  \n",
              "3  27.0      0      0   315154   8.6625   NaN        S  \n",
              "4  22.0      1      1  3101298  12.2875   NaN        S  "
            ]
          },
          "metadata": {
            "tags": []
          },
          "execution_count": 85
        }
      ]
    },
    {
      "cell_type": "markdown",
      "metadata": {
        "id": "wcuUggxejVoZ",
        "colab_type": "text"
      },
      "source": [
        "### Home Work\n",
        "\n",
        "See the task [here](https://github.com/korobool/hlll_course/blob/master/tasks/np_pandas.md)"
      ]
    },
    {
      "cell_type": "code",
      "metadata": {
        "id": "vFp_SqgzjVoZ",
        "colab_type": "code",
        "colab": {}
      },
      "source": [
        ""
      ],
      "execution_count": 0,
      "outputs": []
    }
  ]
}